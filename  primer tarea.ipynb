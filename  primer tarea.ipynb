{
 "cells": [
  {
   "cell_type": "markdown",
   "id": "cfca2622",
   "metadata": {},
   "source": [
    "#  primer trabajo                                 simulacion matematica "
   ]
  },
  {
   "cell_type": "markdown",
   "id": "e077dfd3",
   "metadata": {},
   "source": [
    "## presentacion ##"
   ]
  },
  {
   "cell_type": "markdown",
   "id": "4a1aa9cc",
   "metadata": {},
   "source": [
    "jose Armando Borregui Vidrio mi numero de expediente es: im727516"
   ]
  },
  {
   "cell_type": "markdown",
   "id": "45a9018d",
   "metadata": {},
   "source": [
    "ESTUDIO INGENIERIA  CIVIL"
   ]
  },
  {
   "cell_type": "markdown",
   "id": "ba0d301c",
   "metadata": {},
   "source": [
    "GUSTOS \n",
    "<li> el cafe <li>la pizza <li>las hamburgesas <li>los tacos\n",
    "   "
   ]
  },
  {
   "cell_type": "markdown",
   "id": "3e206800",
   "metadata": {},
   "source": [
    "PASATIEMPOS"
   ]
  },
  {
   "cell_type": "markdown",
   "id": "147cee7e",
   "metadata": {},
   "source": [
    "<ol>\n",
    " <li>futbol</li>\n",
    " <li>gym</li>\n",
    " <li>tiro con arco</li>\n",
    "</ol>"
   ]
  },
  {
   "cell_type": "markdown",
   "id": "2b2bf8d8",
   "metadata": {},
   "source": [
    "## mecanica de solidos "
   ]
  },
  {
   "cell_type": "markdown",
   "id": "a1bb86cb",
   "metadata": {},
   "source": [
    "En mi carrera hay muchas materias importantes pero una de las mas importrtantes es esta debido a que son los principios de calculo estructural."
   ]
  },
  {
   "cell_type": "markdown",
   "id": "30f6c112",
   "metadata": {},
   "source": [
    "Dentro de esta materia un tema muy interesante es el de  de la ley de hooke"
   ]
  },
  {
   "cell_type": "markdown",
   "id": "d6b5a4d3",
   "metadata": {},
   "source": [
    "La ley de la elasticidad establece que la fuerza a la que es sometido un objeto o material elástico es proporcional al alargamiento unitario o extensión que este sufrirá. En otras palabras, esta ley señala que cuando un material elástico es estirado mediante la fuerza, el estiramiento será proporcional a esta."
   ]
  },
  {
   "cell_type": "markdown",
   "id": "2e860d42",
   "metadata": {},
   "source": [
    "la formula es de la ley de elasticidad es:"
   ]
  },
  {
   "cell_type": "markdown",
   "id": "6966419c",
   "metadata": {},
   "source": [
    "$ f=x*k $"
   ]
  },
  {
   "cell_type": "markdown",
   "id": "4c23c6bb",
   "metadata": {},
   "source": [
    "<img src=\"https://thumbs.dreamstime.com/b/resorte-4-303053.jpg\" title=\"rezorte\"/>\n"
   ]
  },
  {
   "cell_type": "markdown",
   "id": "67e81591",
   "metadata": {},
   "source": [
    "Gracias a la ley de Hooke podemos determinar cuál será la extensión que tomará un material elástico tras ejercer cierta fuerza. Cuando se aplica el esfuerzo suficiente para deformar el material y posteriormente se deja de ejercer la fuerza, este volverá a su forma original. A esto se le conoce como deformación elástica.\n",
    "\n",
    "Sin embargo, cuando el esfuerzo aplicado es mucho mayor al que puede soportar el material, se da una deformación plástica. Este tipo de deformación es irreversible y se le conoce como superación del límite de elasticidad."
   ]
  },
  {
   "cell_type": "markdown",
   "id": "1113482b",
   "metadata": {},
   "source": [
    "Referencia"
   ]
  },
  {
   "cell_type": "markdown",
   "id": "df9398c0",
   "metadata": {},
   "source": [
    "<li> *¿Qué es la ley de Hooke o ley de elasticidad? (De explicaciones.net [escritor de explicaciones.net]). (2019, 19 abril). Explicacion .Net. Recuperado 16 de enero de 2023, de https://www.explicacion.net/ley-de-hooke/*"
   ]
  },
  {
   "cell_type": "code",
   "execution_count": null,
   "id": "1ce6820d",
   "metadata": {},
   "outputs": [],
   "source": []
  }
 ],
 "metadata": {
  "kernelspec": {
   "display_name": "Python 3 (ipykernel)",
   "language": "python",
   "name": "python3"
  },
  "language_info": {
   "codemirror_mode": {
    "name": "ipython",
    "version": 3
   },
   "file_extension": ".py",
   "mimetype": "text/x-python",
   "name": "python",
   "nbconvert_exporter": "python",
   "pygments_lexer": "ipython3",
   "version": "3.9.12"
  }
 },
 "nbformat": 4,
 "nbformat_minor": 5
}
